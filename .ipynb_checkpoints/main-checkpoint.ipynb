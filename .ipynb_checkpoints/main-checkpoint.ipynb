{
 "cells": [
  {
   "cell_type": "code",
   "execution_count": 1,
   "id": "0fe5cca2-fe7b-4284-ae04-59d8ebd48ec6",
   "metadata": {
    "editable": true,
    "slideshow": {
     "slide_type": ""
    },
    "tags": []
   },
   "outputs": [
    {
     "name": "stdout",
     "output_type": "stream",
     "text": [
      "Could not import regions, which is required for some of the functionalities of this module.\n"
     ]
    }
   ],
   "source": [
    "from tables import *\n",
    "from methods import *\n",
    "import args \n",
    "import matplotlib.pyplot as plt\n",
    "import numpy as np\n",
    "from astroquery.simbad import Simbad\n",
    "#from evolution import *\n",
    "import os\n",
    "from astropy.coordinates import SkyCoord\n",
    "from constants import *\n",
    "import pandas as pd\n",
    "from tess import *"
   ]
  },
  {
   "cell_type": "code",
   "execution_count": 8,
   "id": "a9155a32-0753-420e-bccc-381839a07080",
   "metadata": {},
   "outputs": [],
   "source": [
    "%matplotlib qt"
   ]
  },
  {
   "cell_type": "code",
   "execution_count": 2,
   "id": "37f80ed8-a519-4041-8ab1-81a3e5f68159",
   "metadata": {
    "editable": true,
    "slideshow": {
     "slide_type": ""
    },
    "tags": []
   },
   "outputs": [],
   "source": [
    "xc = PreProcess(args).compile()\n",
    "GDW =  [(not any(y in x for y in ('III','V','O9','A0','A1','A2','A3','ON','OC'))) or ('LBV' in x) for x in xc['SpC']]\n",
    "xc = xc[GDW];"
   ]
  },
  {
   "cell_type": "code",
   "execution_count": 19,
   "id": "91928b82-ec5f-4adc-a3df-b87ddc0fbb5b",
   "metadata": {
    "editable": true,
    "slideshow": {
     "slide_type": ""
    },
    "tags": []
   },
   "outputs": [
    {
     "name": "stderr",
     "output_type": "stream",
     "text": [
      "/home/michalis/ML-BSG/methods/columns.py:99: RuntimeWarning: divide by zero encountered in log10\n",
      "  f = lambda x, k=k: x[k] - (5 * np.log10(x[d])) + 5\n"
     ]
    }
   ],
   "source": [
    "cm = PostProcess(xc).xmatch().append('combined'); cm.sort(['RA'])\n",
    "EMS = [('LBV' in x) or ('B[e]SG' in x) for x in cm['SpC']]\n",
    "cm = cm[EMS]"
   ]
  },
  {
   "cell_type": "code",
   "execution_count": 20,
   "id": "94aecbb7-fa4d-4c40-b6b1-f74cc29521c5",
   "metadata": {},
   "outputs": [],
   "source": [
    "#mast_query(cm, download_dir='data/', products = [\"Lightcurve\",\"ffi\"])"
   ]
  },
  {
   "cell_type": "code",
   "execution_count": 21,
   "id": "75b90624-ecd4-4a73-ac86-c5431db15c9f",
   "metadata": {},
   "outputs": [],
   "source": [
    "LBV = [('LBV' in x) & ('?' not in x) for x in cm['SpC']]\n",
    "cLBV = [('LBV?' in x) for x in cm['SpC']]\n",
    "BRC = [('B[e]SG' in x) & ('?' not in x) for x in cm['SpC']]\n",
    "cBRC = [('B[e]SG?' in x) for x in cm['SpC']]"
   ]
  },
  {
   "cell_type": "code",
   "execution_count": 22,
   "id": "8480bf77-6320-4916-96b4-ea7df3eabaea",
   "metadata": {},
   "outputs": [],
   "source": [
    "plt.plot(cm['RA'],cm['DEC'],**plot_all)\n",
    "plt.plot(cm['RA'][LBV],cm['DEC'][LBV],**plot_LBV)\n",
    "plt.plot(cm['RA'][cLBV],cm['DEC'][cLBV],**plot_cLBV)\n",
    "plt.plot(cm['RA'][BRC],cm['DEC'][BRC],**plot_BRC)\n",
    "plt.plot(cm['RA'][cBRC],cm['DEC'][cBRC],**plot_cBRC)\n",
    "for g, p in GALAXIES.items(): \n",
    " c = plt.Circle((p['RA'], p['DEC']), p['RAD'], color='r', fill=False)\n",
    " plt.gca().add_patch(c)\n",
    " plt.text(p['RA'], p['DEC'], g, c='r', fontsize=8)"
   ]
  },
  {
   "cell_type": "code",
   "execution_count": 25,
   "id": "df9a0324-87ef-4746-ad5a-bb1babf98d61",
   "metadata": {},
   "outputs": [],
   "source": [
    "plt.plot(cm['BR'][LBV],cm['MG'][LBV],**plot_LBV) \n",
    "plt.plot(cm['BR'][cLBV],cm['MG'][cLBV],**plot_cLBV) \n",
    "plt.plot(cm['BR'][BRC],cm['MG'][BRC],**plot_BRC) \n",
    "plt.plot(cm['BR'][cBRC],cm['MG'][cBRC],**plot_cBRC)\n",
    "plt.gca().invert_yaxis() "
   ]
  }
 ],
 "metadata": {
  "kernelspec": {
   "display_name": "Python 3 (ipykernel)",
   "language": "python",
   "name": "python3"
  },
  "language_info": {
   "codemirror_mode": {
    "name": "ipython",
    "version": 3
   },
   "file_extension": ".py",
   "mimetype": "text/x-python",
   "name": "python",
   "nbconvert_exporter": "python",
   "pygments_lexer": "ipython3",
   "version": "3.8.20"
  }
 },
 "nbformat": 4,
 "nbformat_minor": 5
}
