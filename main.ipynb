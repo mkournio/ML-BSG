{
 "cells": [
  {
   "cell_type": "code",
   "execution_count": 1,
   "id": "0fe5cca2-fe7b-4284-ae04-59d8ebd48ec6",
   "metadata": {
    "editable": true,
    "scrolled": true,
    "slideshow": {
     "slide_type": ""
    },
    "tags": []
   },
   "outputs": [
    {
     "name": "stdout",
     "output_type": "stream",
     "text": [
      "Could not import regions, which is required for some of the functionalities of this module.\n"
     ]
    },
    {
     "ename": "TabError",
     "evalue": "inconsistent use of tabs and spaces in indentation (extract.py, line 62)",
     "output_type": "error",
     "traceback": [
      "Traceback \u001b[0;36m(most recent call last)\u001b[0m:\n",
      "\u001b[0m  File \u001b[1;32m~/anaconda3/envs/py38tess/lib/python3.8/site-packages/IPython/core/interactiveshell.py:3508\u001b[0m in \u001b[1;35mrun_code\u001b[0m\n    exec(code_obj, self.user_global_ns, self.user_ns)\u001b[0m\n",
      "\u001b[0m  Cell \u001b[1;32mIn[1], line 12\u001b[0m\n    from tess import *\u001b[0m\n",
      "\u001b[0;36m  File \u001b[0;32m~/ML-BSG/tess/__init__.py:2\u001b[0;36m\n\u001b[0;31m    from .extract import *\u001b[0;36m\n",
      "\u001b[0;36m  File \u001b[0;32m~/ML-BSG/tess/extract.py:62\u001b[0;36m\u001b[0m\n\u001b[0;31m    sspoc = self.data['SSPOC'][s]\u001b[0m\n\u001b[0m                                 ^\u001b[0m\n\u001b[0;31mTabError\u001b[0m\u001b[0;31m:\u001b[0m inconsistent use of tabs and spaces in indentation\n"
     ]
    }
   ],
   "source": [
    "from tables import *\n",
    "from methods import *\n",
    "import args \n",
    "import matplotlib.pyplot as plt\n",
    "import numpy as np\n",
    "from astroquery.simbad import Simbad\n",
    "#from evolution import *\n",
    "import os\n",
    "from astropy.coordinates import SkyCoord\n",
    "from constants import *\n",
    "import pandas as pd\n",
    "from tess import *"
   ]
  },
  {
   "cell_type": "code",
   "execution_count": null,
   "id": "3c151add-81f7-4e1b-8ba9-02390038d16e",
   "metadata": {},
   "outputs": [],
   "source": [
    "%matplotlib inline "
   ]
  },
  {
   "cell_type": "code",
   "execution_count": null,
   "id": "37f80ed8-a519-4041-8ab1-81a3e5f68159",
   "metadata": {
    "editable": true,
    "slideshow": {
     "slide_type": ""
    },
    "tags": []
   },
   "outputs": [],
   "source": [
    "xc = PreProcess(args).compile()\n",
    "GDW =  [(not any(y in x for y in ('III','V','O9','A0','A1','A2','A3','ON','OC'))) or ('LBV' in x) for x in xc['SpC']]\n",
    "xc = xc[GDW];"
   ]
  },
  {
   "cell_type": "code",
   "execution_count": null,
   "id": "91928b82-ec5f-4adc-a3df-b87ddc0fbb5b",
   "metadata": {
    "editable": true,
    "slideshow": {
     "slide_type": ""
    },
    "tags": []
   },
   "outputs": [],
   "source": [
    "cm = PostProcess(xc).xmatch().append('combined'); cm.sort(['RA'])\n",
    "EMS = [('LBV' in x) or ('B[e]SG' in x) for x in cm['SpC']]\n",
    "cm = cm[EMS]"
   ]
  },
  {
   "cell_type": "code",
   "execution_count": null,
   "id": "94aecbb7-fa4d-4c40-b6b1-f74cc29521c5",
   "metadata": {},
   "outputs": [],
   "source": [
    "#mast_query(cm, download_dir='data/', products = [\"Lightcurve\",\"ffi\"])"
   ]
  },
  {
   "cell_type": "code",
   "execution_count": null,
   "id": "75b90624-ecd4-4a73-ac86-c5431db15c9f",
   "metadata": {},
   "outputs": [],
   "source": [
    "LBV = [('LBV' in x) & ('?' not in x) for x in cm['SpC']]\n",
    "cLBV = [('LBV?' in x) for x in cm['SpC']]\n",
    "BRC = [('B[e]SG' in x) & ('?' not in x) for x in cm['SpC']]\n",
    "cBRC = [('B[e]SG?' in x) for x in cm['SpC']]\n",
    "DR24 = ['D24' in x for x in cm['REF']]"
   ]
  },
  {
   "cell_type": "code",
   "execution_count": null,
   "id": "8480bf77-6320-4916-96b4-ea7df3eabaea",
   "metadata": {},
   "outputs": [],
   "source": [
    "plt.plot(cm['RA'],cm['DEC'],**plot_all)\n",
    "plt.plot(cm['RA'][LBV],cm['DEC'][LBV],**plot_LBV)\n",
    "plt.plot(cm['RA'][cLBV],cm['DEC'][cLBV],**plot_cLBV)\n",
    "plt.plot(cm['RA'][BRC],cm['DEC'][BRC],**plot_BRC)\n",
    "plt.plot(cm['RA'][cBRC],cm['DEC'][cBRC],**plot_cBRC)\n",
    "for g, p in GALAXIES.items(): \n",
    " c = plt.Circle((p['RA'], p['DEC']), p['RAD'], color='r', fill=False)\n",
    " plt.gca().add_patch(c)\n",
    " plt.text(p['RA'], p['DEC'], g, c='r', fontsize=8)"
   ]
  },
  {
   "cell_type": "code",
   "execution_count": null,
   "id": "df9a0324-87ef-4746-ad5a-bb1babf98d61",
   "metadata": {},
   "outputs": [],
   "source": [
    "plt.plot(cm['BR'],cm['MG'],**plot_all); \n",
    "plt.plot(cm['BR'][DR24],cm['MG'][DR24],'rx'); \n",
    "plt.plot(cm['BR'][LBV],cm['MG'][LBV],**plot_LBV) \n",
    "plt.plot(cm['BR'][cLBV],cm['MG'][cLBV],**plot_cLBV) \n",
    "plt.plot(cm['BR'][BRC],cm['MG'][BRC],**plot_BRC) \n",
    "plt.plot(cm['BR'][cBRC],cm['MG'][cBRC],**plot_cBRC)\n",
    "plt.xlabel(r'BP-RP')\n",
    "plt.ylabel(r'M$_{G}$')  \n",
    "plt.gca().invert_yaxis() "
   ]
  },
  {
   "cell_type": "code",
   "execution_count": null,
   "id": "12ae9e83-0947-46f0-9592-9e8343053dbd",
   "metadata": {},
   "outputs": [],
   "source": [
    "plt.plot(cm['JK'],cm['MK'],**plot_all)\n",
    "plt.plot(cm['JK'][DR24],cm['MK'][DR24],'rx')\n",
    "plt.plot(cm['JK'][LBV],cm['MK'][LBV],**plot_LBV)\n",
    "plt.plot(cm['JK'][cLBV],cm['MK'][cLBV],**plot_cLBV) \n",
    "plt.plot(cm['JK'][BRC],cm['MK'][BRC],**plot_BRC)\n",
    "plt.plot(cm['JK'][cBRC],cm['MK'][cBRC],**plot_cBRC)\n",
    "plt.xlabel(r'J-K')\n",
    "plt.ylabel(r'M$_{K}$')  \n",
    "plt.gca().invert_yaxis() "
   ]
  },
  {
   "cell_type": "code",
   "execution_count": null,
   "id": "34a4951a-1361-4cb9-a817-8295fa1349bc",
   "metadata": {},
   "outputs": [],
   "source": [
    "LCs = TessLCs(data = cm)"
   ]
  },
  {
   "cell_type": "code",
   "execution_count": null,
   "id": "b80271db-bca4-45b9-9806-6cd5411b18cf",
   "metadata": {},
   "outputs": [],
   "source": []
  }
 ],
 "metadata": {
  "kernelspec": {
   "display_name": "Python 3 (ipykernel)",
   "language": "python",
   "name": "python3"
  },
  "language_info": {
   "codemirror_mode": {
    "name": "ipython",
    "version": 3
   },
   "file_extension": ".py",
   "mimetype": "text/x-python",
   "name": "python",
   "nbconvert_exporter": "python",
   "pygments_lexer": "ipython3",
   "version": "3.8.20"
  }
 },
 "nbformat": 4,
 "nbformat_minor": 5
}
